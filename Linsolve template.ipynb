{
 "cells": [
  {
   "cell_type": "code",
   "execution_count": 72,
   "id": "1ab875bc",
   "metadata": {},
   "outputs": [],
   "source": [
    "from sympy import *\n",
    "from sympy import I as j #import complex number as j\n",
    "from sympy.solvers.solveset import linsolve, nonlinsolve\n",
    "from sympy.parsing.latex import parse_latex\n",
    "from sympy.parsing.sympy_parser import parse_expr\n",
    "from IPython.display import display, Math\n",
    "import ipywidgets as widgets\n",
    "#define symbols\n",
    "#dont use i as a symbol, because it is reserved for the imaginary unit!!!\n",
    "R=symbols(\"R_{0:7}\")\n",
    "I=symbols(\"I_{0:7}\")\n",
    "i=symbols(\"i_{0:7}\")\n",
    "C=symbols(\"C_{0:7}\")\n",
    "L=symbols(\"L_{0:7}\")\n",
    "V=symbols(\"V_{0:7}\")\n",
    "Vin = symbols(\"V_in\")\n",
    "Vr = symbols(\"V_i*n\")\n",
    "t =symbols(\"t\", real=True)\n",
    "s = symbols(\"s\")\n",
    "omega=symbols(\"omega\")\n",
    "#j=symbols(\"j\")\n",
    "Pr3 = symbols(\"P_R3\")"
   ]
  },
  {
   "cell_type": "code",
   "execution_count": 116,
   "id": "0b407120",
   "metadata": {},
   "outputs": [
    {
     "data": {
      "application/vnd.jupyter.widget-view+json": {
       "model_id": "d21e6c62f4e8473db26f0f99092ece7c",
       "version_major": 2,
       "version_minor": 0
      },
      "text/plain": [
       "Dropdown(description='Number of pEqs:', index=1, options=('1', '2', '3', '4'), style=DescriptionStyle(descript…"
      ]
     },
     "metadata": {},
     "output_type": "display_data"
    },
    {
     "data": {
      "application/vnd.jupyter.widget-view+json": {
       "model_id": "aefc8ab43b06469aa391264ba251aadf",
       "version_major": 2,
       "version_minor": 0
      },
      "text/plain": [
       "Box(children=(VBox(children=(Text(value='', description='$R_0$', placeholder='Ohms'), Text(value='', descripti…"
      ]
     },
     "metadata": {},
     "output_type": "display_data"
    },
    {
     "data": {
      "application/vnd.jupyter.widget-view+json": {
       "model_id": "5342054d95124d3496c3d347e43b0c34",
       "version_major": 2,
       "version_minor": 0
      },
      "text/plain": [
       "Output(layout=Layout(border='1px solid black'), outputs=({'output_type': 'display_data', 'data': {'text/plain'…"
      ]
     },
     "metadata": {},
     "output_type": "display_data"
    },
    {
     "data": {
      "application/vnd.jupyter.widget-view+json": {
       "model_id": "e6ed96cb1efc4e5e875ed35161e392b9",
       "version_major": 2,
       "version_minor": 0
      },
      "text/plain": [
       "HBox(children=(Button(description='Parse equations', style=ButtonStyle(), tooltip='hello'), Button(description…"
      ]
     },
     "metadata": {},
     "output_type": "display_data"
    },
    {
     "data": {
      "text/plain": [
       "'Write custom expression:  pEq[x] parsed   linEq[x] system of equation results   lapEq[x] inv. laplace results'"
      ]
     },
     "metadata": {},
     "output_type": "display_data"
    },
    {
     "data": {
      "application/vnd.jupyter.widget-view+json": {
       "model_id": "7814de606ad043a8a9b459633d6a5295",
       "version_major": 2,
       "version_minor": 0
      },
      "text/plain": [
       "HBox(children=(Text(value='', placeholder='Equation'), Button(description='Calculate', style=ButtonStyle(), to…"
      ]
     },
     "metadata": {},
     "output_type": "display_data"
    },
    {
     "data": {
      "application/vnd.jupyter.widget-view+json": {
       "model_id": "aae5c1a166324dd983f7abc8e971ecf0",
       "version_major": 2,
       "version_minor": 0
      },
      "text/plain": [
       "RadioButtons(description='Substitute values in:', options=(('parsed equation', 1), ('linsolve equation', 2), (…"
      ]
     },
     "metadata": {},
     "output_type": "display_data"
    },
    {
     "data": {
      "application/vnd.jupyter.widget-view+json": {
       "model_id": "6e6864ebf5d64971b5ebacf05fd3e98d",
       "version_major": 2,
       "version_minor": 0
      },
      "text/plain": [
       "Output(layout=Layout(border='2px solid black'))"
      ]
     },
     "metadata": {},
     "output_type": "display_data"
    }
   ],
   "source": [
    "# out = widgets.Output(layout={'border': '1px solid black'})\n",
    "outIPy = widgets.Output(layout={'border': '2px solid black'})\n",
    "initNumOfBoxes = {\"new\" : 2}\n",
    "numOfR = 5\n",
    "textBox = []\n",
    "subsEqNum = 1\n",
    "\n",
    "pEq = []\n",
    "linEq = []\n",
    "lapEq = []\n",
    "\n",
    "\n",
    "style = {'description_width': 'initial'}\n",
    "\n",
    "def drawTBox(change): #dinamically draw pEq input text boxes\n",
    "    out.clear_output()\n",
    "    \n",
    "    global numOfBoxes   #global needed because without it the next statement wouldn't update the global variable\n",
    "    numOfBoxes = int(change[\"new\"])\n",
    "    \n",
    "    global textBox\n",
    "    textBox = []\n",
    "    for i in range(numOfBoxes):\n",
    "        textString = \"Eq\" + str(i+1) + \":\"\n",
    "        textBox.append(widgets.Text(description=textString))\n",
    "        #print(numOfBoxes)\n",
    "        with out:\n",
    "            display(textBox[i])\n",
    "\n",
    "drawTBox(initNumOfBoxes)\n",
    "\n",
    "dropdown = widgets.Dropdown(\n",
    "    options=['1', '2', '3', '4'],\n",
    "    value = str(initNumOfBoxes[\"new\"]),\n",
    "    description='Number of pEqs:',\n",
    "    disabled=False,\n",
    "    style=style\n",
    ")\n",
    "\n",
    "#def tes(change):\n",
    "#    print(change[\"new\"])\n",
    "\n",
    "def changeSubs(change):  #change for which pEqs to substitute values\n",
    "    global subsEqNum\n",
    "    subsEqNum = change[\"new\"]\n",
    "\n",
    "#drawTBox(int(dropdown.value))\n",
    "\n",
    "radioButton = widgets.RadioButtons(\n",
    "    options=[('parsed equation',1), ('linsolve equation',2), ('custom equation',3)],\n",
    "    description='Substitute values in:',\n",
    "    disabled=False\n",
    ")\n",
    "\n",
    "\n",
    "button1 = widgets.Button(\n",
    "    description='Parse equations',\n",
    "    disabled=False,\n",
    "    button_style='', # 'success', 'info', 'warning', 'danger' or ''\n",
    "    tooltip='hello',\n",
    "    #icon='check' # (FontAwesome names without the `fa-` prefix)\n",
    ")\n",
    "\n",
    "button2 = widgets.Button(\n",
    "    description='LinSolve for I',\n",
    "    disabled=False,\n",
    "    button_style='', # 'success', 'info', 'warning', 'danger' or ''\n",
    "    tooltip='hello',\n",
    "    #icon='check' # (FontAwesome names without the `fa-` prefix)\n",
    ")\n",
    "\n",
    "button3 = widgets.Button(\n",
    "    description='Substitute in equations',\n",
    "    disabled=False,\n",
    "    button_style='', # 'success', 'info', 'warning', 'danger' or ''\n",
    "    tooltip='hello',\n",
    "    #icon='check' # (FontAwesome names without the `fa-` prefix)\n",
    "   \n",
    ")\n",
    "\n",
    "button4 = widgets.Button(\n",
    "    description='Clear Subs Val',\n",
    "    disabled=False,\n",
    "    button_style='', # 'success', 'info', 'warning', 'danger' or ''\n",
    "    tooltip='hello',\n",
    "    #icon='check' # (FontAwesome names without the `fa-` prefix)\n",
    "   \n",
    ")\n",
    "\n",
    "button5 = widgets.Button(\n",
    "    description='Clear Output',\n",
    "    disabled=False,\n",
    "    button_style='', # 'success', 'info', 'warning', 'danger' or ''\n",
    "    tooltip='hello',\n",
    "    #icon='check' # (FontAwesome names without the `fa-` prefix)\n",
    "   \n",
    ")\n",
    "\n",
    "button6 = widgets.Button(\n",
    "    description='Inverse Laplace Trans',\n",
    "    disabled=False,\n",
    "    button_style='', # 'success', 'info', 'warning', 'danger' or ''\n",
    "    tooltip='hello',\n",
    "    #icon='check' # (FontAwesome names without the `fa-` prefix)\n",
    "   \n",
    ")\n",
    "\n",
    "button7 = widgets.Button(\n",
    "    description='Calculate',\n",
    "    disabled=False,\n",
    "    button_style='', # 'success', 'info', 'warning', 'danger' or ''\n",
    "    tooltip='hello',\n",
    "    #icon='check' # (FontAwesome names without the `fa-` prefix)\n",
    "   \n",
    ")\n",
    "\n",
    "#pEq = [Eq((R[1]+1/(C[1]*s))*I[1]-(1/(C[1]*s))*I[2],V[1]),\n",
    "#           Eq(-1/(C[1]*s)*I[1]+(R[2]+1/(C[1]*s))*I[2],0)]\n",
    "#display(pEq[0])\n",
    "#for i in pEq:\n",
    " #   display(i)\n",
    "#(R[1]+1/(C[1]*s))*I[1]-(1/(C[1]*s))*I[2]\n",
    "\n",
    "#def handle_submit(sender):\n",
    " #   print(textBox.value)\n",
    "  #  print(sender)\n",
    "\n",
    "def handle_button7(a):  #custom equation calc\n",
    "    global cEq\n",
    "    cEq = []\n",
    "    boxInLhs = customEqBox.value \n",
    "    boxInRhs = boxInLhs\n",
    "    if customEqBox.value:\n",
    "        \n",
    "        for key, val in {\"pEq\":pEq, \"linEq\":linEq, \"lapeq\":lapEq}.items():\n",
    "            \n",
    "            for num in range(len(val)):\n",
    "            \n",
    "                pEqLhs = str(val[num].lhs).replace(\"{\", \"\").replace(\"}\", \" \") #because parse_expre dosen't like I_{x}\n",
    "                pEqRhs = str(val[num].rhs).replace(\"{\", \"\").replace(\"}\", \" \")\n",
    "                boxInLhs = boxInLhs.replace(key + \"[\" + str(num) + \"]\", pEqLhs)\n",
    "                boxInRhs = boxInRhs.replace(key + \"[\" + str(num) + \"]\", pEqRhs)\n",
    "            \n",
    "        cEq.append(Eq(parse_expr(boxInLhs), parse_expr(boxInRhs)))\n",
    "    \n",
    "    #elif boxIn.find(\"linEq[\")\n",
    "    #for n in [pEq] \n",
    "    \n",
    "    for eq in cEq:\n",
    "        outIPy.append_display_data(eq)\n",
    "\n",
    "def handle_button6(a):  #laplace transform the solved pEqs \n",
    "    global lapEq\n",
    "    lapEq = []\n",
    "    for n, res in enumerate(linEq):\n",
    "        lapEq.append(Eq(i[n+1], inverse_laplace_transform(res,s,t)))\n",
    "        outIPy.append_display_data(lapEq[n])\n",
    "\n",
    "\n",
    "def handle_button5(a):  #clear output\n",
    "    outIPy.clear_output()\n",
    "    \n",
    "#def handle_button4(a): #clear substitute input field values\n",
    "\n",
    "def handle_button3(a):  #substitute values parser\n",
    "    global pEq\n",
    "    if subsEqNum == 3:\n",
    "        forRange = range(len(cEq))\n",
    "    else:\n",
    "        forRange = range(len(pEq))\n",
    "        \n",
    "    for nEq in forRange:\n",
    "        for key, textField in valueItems.items():\n",
    "            for num, textF in enumerate(textField):\n",
    "                if textF.value != \"\":\n",
    "                    #print(key)\n",
    "                    #print(textF.value)\n",
    "                    if key==\"L\":\n",
    "                        mult = 10**-3\n",
    "                    elif key==\"C\":\n",
    "                        mult = 10**-6 \n",
    "                    else:\n",
    "                        mult = 1\n",
    "                    #print(key + \"_{\" + str(n) + \"}\")\n",
    "                    #print(int(textF.value))\n",
    "                    \n",
    "                    bnum = \"{\" + str(num) + \"}\" # because Vin and custom eqs dosent need the braces {}\n",
    "                    if key==\"Vin\":\n",
    "                        bnum = \"in\"\n",
    "                        key = \"V\"\n",
    "                    \n",
    "                    if subsEqNum == 1: #for parsed pEqs\n",
    "                        pEq[nEq] = pEq[nEq].subs(key + \"_\" + str(bnum), parse_expr(textF.value)*mult)\n",
    "                        \n",
    "                        #print(subsEqNum)\n",
    "                    elif subsEqNum == 2: #for linsolve linEqs\n",
    "                        linEq[nEq] = linEq[nEq].subs(key + \"_\" + str(bnum), parse_expr(textF.value)*mult)\n",
    "                        \n",
    "                    elif subsEqNum == 3: #for custom equations\n",
    "                        cEq[nEq] = cEq[nEq].subs(key + \"_\" + str(num), parse_expr(textF.value)*mult)\n",
    "                        display()\n",
    "                        #print(subsEqNum)\n",
    "            \n",
    "        if subsEqNum == 1: #for parsed pEqs\n",
    "            outIPy.append_display_data(pEq[nEq])\n",
    "        elif subsEqNum == 2: #for linsolve linEqs\n",
    "            outIPy.append_display_data(linEq[nEq])\n",
    "        elif subsEqNum == 3: #for custom equations\n",
    "            outIPy.append_display_data(cEq[nEq])\n",
    "                    #print(eq)\n",
    "    #display(pEq[0])\n",
    "\n",
    "\n",
    "def handle_button2(a):  #linear solver\n",
    "    iList = []\n",
    "    global linEq\n",
    "    for n, eq in enumerate(pEq):\n",
    "        iList.append(I[n+1])\n",
    "        \n",
    "    linEq = linsolve(pEq,iList).args[0]\n",
    "    linEq = list(linEq)  #needed as list in other functions\n",
    "    #outIPy.append_display_data(type(linEq))\n",
    "    outIPy.append_display_data(\"result:\")\n",
    "    for n, res in enumerate(linEq):\n",
    "        linEq[n] = Eq(I[n+1], linEq[n])\n",
    "        outIPy.append_display_data(Math(latex(linEq[n]))) #pretty print\n",
    "    \n",
    "    \n",
    "def handle_button1(a):  #input parser\n",
    "    global pEq\n",
    "    latex_string = []\n",
    "    pEq = []\n",
    "\n",
    "    for i in range(numOfBoxes):\n",
    "        lstring = textBox[i].value.replace(r\"\\ \", \"\") # remove blank spaces\n",
    "        lstring = parse_latex(lstring)\n",
    "        #lstring = lstring.subs(j, i)\n",
    "        lstring = lstring.subs(\"V_{i*n}\", Vin) # multiple charachter subscripts are parsed incorectly\n",
    "        pEq.append(lstring)\n",
    "        outIPy.append_display_data(pEq[i])\n",
    "        #display(type(pEq[i]))\n",
    "    pEq = list(pEq)\n",
    "        \n",
    "valueItems = {\"R\": [], \"C\": [], \"L\": [], \"V\": [],\"Vin\": [], \"I\": []}\n",
    "valueItemPlaceholder = {\"R\": \"Ohms\", \"C\": \"uF\", \"L\": \"mH\", \"V\": \"Volts\",\"Vin\": \"input eq\", \"I\": \"Amps\"}\n",
    "valueChildList = []\n",
    "for key in valueItems:\n",
    "    if key==\"Vin\":\n",
    "        oldNumOfR = numOfR\n",
    "        numOfR = 1\n",
    "    for n in range(numOfR):\n",
    "        if key==\"Vin\":\n",
    "            n = \"{in}\"\n",
    "            valueItems[key].append(widgets.Text(description=\"$\" + \"V\" + \"_\" + str(n) + \"$\", placeholder=valueItemPlaceholder[key]))\n",
    "        else:\n",
    "            valueItems[key].append(widgets.Text(description=\"$\" + key + \"_\" + str(n) + \"$\", placeholder=valueItemPlaceholder[key]))\n",
    "    valueChildList.append(widgets.VBox(valueItems[key]))\n",
    "    if key==\"Vin\":\n",
    "        numOfR = oldNumOfR\n",
    "    \n",
    "box_layout = widgets.Layout(overflow='scroll hidden',\n",
    "                    border='3px solid black',\n",
    "                    width='500px',\n",
    "                    height='',\n",
    "                    flex_flow='column',\n",
    "                    display='flex')\n",
    "#carousel = widgets.Box(children=valueItems, layout=box_layout)\n",
    "#carousel = widgets.Box(children=valueItems)\n",
    "\n",
    "display(dropdown)\n",
    "dropdown.observe(drawTBox, names=\"value\")\n",
    "\n",
    "display(widgets.Box(valueChildList))\n",
    "\n",
    "display(out)\n",
    "display(widgets.HBox([button1,button2,button6,button3,button4,button5]))\n",
    "\n",
    "display(\"Write custom expression:  pEq[x] parsed   linEq[x] system of equation results   lapEq[x] inv. laplace results\")\n",
    "\n",
    "customEqBox = widgets.Text(placeholder=\"Equation\")\n",
    "display(widgets.HBox([customEqBox, button7]))\n",
    "\n",
    "display(radioButton)\n",
    "radioButton.observe(changeSubs, names=\"value\")\n",
    "\n",
    "display(outIPy)\n",
    "\n",
    "button1.on_click(handle_button1)\n",
    "button2.on_click(handle_button2)\n",
    "button3.on_click(handle_button3)\n",
    "#button4.on_click(handle_button4)\n",
    "button5.on_click(handle_button5)\n",
    "button6.on_click(handle_button6)\n",
    "button7.on_click(handle_button7)"
   ]
  },
  {
   "cell_type": "code",
   "execution_count": 45,
   "id": "9dee73ea",
   "metadata": {},
   "outputs": [
    {
     "data": {
      "text/plain": [
       "4"
      ]
     },
     "metadata": {},
     "output_type": "display_data"
    },
    {
     "data": {
      "text/plain": [
       "5"
      ]
     },
     "metadata": {},
     "output_type": "display_data"
    },
    {
     "data": {
      "text/plain": [
       "'3'"
      ]
     },
     "metadata": {},
     "output_type": "display_data"
    }
   ],
   "source": [
    "boxIn = \"pEq[3]\"\n",
    "  \n",
    "if boxIn.find(\"pEq[\")>=0:\n",
    "    sLoc = boxIn.find(\"pEq[\") + len(\"pEq[\")\n",
    "    eLoc = boxIn.find(\"]\", sLoc)\n",
    "    num = boxIn[sLoc:eLoc]\n",
    "    display(sLoc)\n",
    "    display(eLoc)\n",
    "    display(num)"
   ]
  },
  {
   "cell_type": "code",
   "execution_count": 87,
   "id": "0f3a6572",
   "metadata": {},
   "outputs": [
    {
     "ename": "SyntaxError",
     "evalue": "cannot assign to operator (<ipython-input-87-043003dd899f>, line 1)",
     "output_type": "error",
     "traceback": [
      "\u001b[1;36m  File \u001b[1;32m\"<ipython-input-87-043003dd899f>\"\u001b[1;36m, line \u001b[1;32m1\u001b[0m\n\u001b[1;33m    2*I_1=R_1\u001b[0m\n\u001b[1;37m    ^\u001b[0m\n\u001b[1;31mSyntaxError\u001b[0m\u001b[1;31m:\u001b[0m cannot assign to operator\n"
     ]
    }
   ],
   "source": [
    "2*I_1=R_1\n",
    "pEq[0] + linEq[0]\n",
    "linEq[0]"
   ]
  },
  {
   "cell_type": "code",
   "execution_count": 111,
   "id": "e24c6407",
   "metadata": {},
   "outputs": [
    {
     "data": {
      "text/plain": [
       "[Eq(2*I_{1}, R_{1})]"
      ]
     },
     "metadata": {},
     "output_type": "display_data"
    },
    {
     "data": {
      "text/latex": [
       "$\\displaystyle I_{1} = \\frac{R_{1}}{2}$"
      ],
      "text/plain": [
       "Eq(I_{1}, R_{1}/2)"
      ]
     },
     "metadata": {},
     "output_type": "display_data"
    },
    {
     "data": {
      "text/plain": [
       "[]"
      ]
     },
     "metadata": {},
     "output_type": "display_data"
    }
   ],
   "source": [
    "for key, val in {\"pEq\":pEq, \"linEq\":linEq, \"lapeq\":lapEq}.items():\n",
    "            display(val)\n",
    "            \n",
    "           "
   ]
  },
  {
   "cell_type": "code",
   "execution_count": 44,
   "id": "82fe8c5e",
   "metadata": {},
   "outputs": [
    {
     "ename": "SyntaxError",
     "evalue": "unexpected character after line continuation character (<ipython-input-44-05b3067ec309>, line 1)",
     "output_type": "error",
     "traceback": [
      "\u001b[1;36m  File \u001b[1;32m\"<ipython-input-44-05b3067ec309>\"\u001b[1;36m, line \u001b[1;32m1\u001b[0m\n\u001b[1;33m    \\ -V_{in}+R_0I_1+R_2I_1+\\frac{1}{C_1s}\\left(I_1-I_2\\right)=0\\\u001b[0m\n\u001b[1;37m                                                                  ^\u001b[0m\n\u001b[1;31mSyntaxError\u001b[0m\u001b[1;31m:\u001b[0m unexpected character after line continuation character\n"
     ]
    }
   ],
   "source": [
    "\\ -V_{in}+R_0I_1+R_2I_1+\\frac{1}{C_1s}\\left(I_1-I_2\\right)=0\\ \n",
    "-\\frac{1}{C_1s}\\left(-I_2+I_1\\right)+R_1(I_2-I_3)=0\n",
    "-R_1(-I_3+I_2)+\\frac{1}{C_0s}I_3=0\n",
    "\n",
    "-V_{in}+R_1I_1+\\frac{1}{C_1s}\\left(I_1-I_2\\right)=0\n",
    "\n",
    "-\\frac{1}{C_1s}\\left(-I_2+I_1\\right)+R_2I_2=0\n"
   ]
  },
  {
   "cell_type": "code",
   "execution_count": 35,
   "id": "043ca9d4",
   "metadata": {},
   "outputs": [
    {
     "data": {
      "text/latex": [
       "$\\displaystyle s$"
      ],
      "text/plain": [
       "s"
      ]
     },
     "execution_count": 35,
     "metadata": {},
     "output_type": "execute_result"
    }
   ],
   "source": [
    "eq = Vin\n",
    "eq.subs(\"V_in\", s)\n"
   ]
  },
  {
   "cell_type": "code",
   "execution_count": 26,
   "id": "39c599a3",
   "metadata": {},
   "outputs": [
    {
     "ename": "TypeError",
     "evalue": "unsupported operand type(s) for -: 'str' and 'str'",
     "output_type": "error",
     "traceback": [
      "\u001b[1;31m---------------------------------------------------------------------------\u001b[0m",
      "\u001b[1;31mTypeError\u001b[0m                                 Traceback (most recent call last)",
      "\u001b[1;32m<ipython-input-26-dd1332ae71f8>\u001b[0m in \u001b[0;36m<module>\u001b[1;34m\u001b[0m\n\u001b[1;32m----> 1\u001b[1;33m \u001b[1;34m\"1{\"\u001b[0m \u001b[1;33m+\u001b[0m \u001b[1;34m\"}\"\u001b[0m \u001b[1;33m-\u001b[0m \u001b[1;34m\"}\"\u001b[0m\u001b[1;33m\u001b[0m\u001b[1;33m\u001b[0m\u001b[0m\n\u001b[0m",
      "\u001b[1;31mTypeError\u001b[0m: unsupported operand type(s) for -: 'str' and 'str'"
     ]
    }
   ],
   "source": [
    "\"1{\" + \"}\" - \"}\""
   ]
  },
  {
   "cell_type": "code",
   "execution_count": 181,
   "id": "b7f0ca0e",
   "metadata": {},
   "outputs": [
    {
     "data": {
      "text/plain": [
       "'Append text to the stderr stream.'"
      ]
     },
     "execution_count": 181,
     "metadata": {},
     "output_type": "execute_result"
    }
   ],
   "source": [
    "widgets.Output.append_stderr.__doc__"
   ]
  },
  {
   "cell_type": "code",
   "execution_count": 158,
   "id": "9ab2b86c",
   "metadata": {},
   "outputs": [
    {
     "data": {
      "text/latex": [
       "$\\displaystyle R_{1} + R_{2}$"
      ],
      "text/plain": [
       "R_{1} + R_{2}"
      ]
     },
     "metadata": {},
     "output_type": "display_data"
    },
    {
     "data": {
      "text/latex": [
       "$\\displaystyle R_{2} + 2$"
      ],
      "text/plain": [
       "R_{2} + 2"
      ]
     },
     "execution_count": 158,
     "metadata": {},
     "output_type": "execute_result"
    }
   ],
   "source": [
    "eq = R[1]\n",
    "display(equation[0])\n",
    "equation[0].subs(\"R_{1}\", 2)\n"
   ]
  },
  {
   "cell_type": "code",
   "execution_count": 14,
   "id": "a402cc8b",
   "metadata": {},
   "outputs": [],
   "source": [
    "def mainF(boxNum):\n",
    "    numOfBoxes = boxNum\n",
    "    textBox = []\n",
    "    for i in range(numOfBoxes):\n",
    "        textString = \"Eq\" + str(i+1) + \":\"\n",
    "        textBox.append(widgets.Text(description=textString))\n",
    "        display(textBox[i])\n",
    "\n",
    "    button = widgets.Button(\n",
    "        description='Parse Equations',\n",
    "        disabled=False,\n",
    "        button_style='', # 'success', 'info', 'warning', 'danger' or ''\n",
    "        tooltip='hello',\n",
    "        #icon='check' # (FontAwesome names without the `fa-` prefix)\n",
    "    )\n",
    "\n",
    "    display(button)\n",
    "    #equation = [Eq((R[1]+1/(C[1]*s))*I[1]-(1/(C[1]*s))*I[2],V[1]),\n",
    "    #           Eq(-1/(C[1]*s)*I[1]+(R[2]+1/(C[1]*s))*I[2],0)]\n",
    "    #display(equation[0])\n",
    "    #for i in equation:\n",
    "     #   display(i)\n",
    "    #(R[1]+1/(C[1]*s))*I[1]-(1/(C[1]*s))*I[2]\n",
    "\n",
    "    #def handle_submit(sender):\n",
    "     #   print(textBox.value)\n",
    "      #  print(sender)\n",
    "\n",
    "\n",
    "\n",
    "\n",
    "\n",
    "    def handle_button(a):\n",
    "        latex_string = []\n",
    "        equation = []\n",
    "\n",
    "        for i in range(numOfBoxes):\n",
    "            lstring = textBox[i].value.replace(r\"\\ \", \"\") # remove blank spaces\n",
    "            lstring = parse_latex(lstring)\n",
    "            #lstring = lstring.subs(j, i)\n",
    "            lstring = lstring.subs(\"V_{i*n}\", Vin) # multiple charachter subscripts are parsed incorectly\n",
    "            equation.append(lstring)\n",
    "            display(equation[i])\n",
    "            display(type(equation[i]))\n",
    "\n",
    "\n",
    "    button.on_click(handle_button)\n"
   ]
  },
  {
   "cell_type": "code",
   "execution_count": 134,
   "id": "9ed56bbf",
   "metadata": {},
   "outputs": [
    {
     "data": {
      "text/plain": [
       "{V_in}"
      ]
     },
     "execution_count": 134,
     "metadata": {},
     "output_type": "execute_result"
    }
   ],
   "source": [
    "Vin.free_symbols"
   ]
  },
  {
   "cell_type": "code",
   "execution_count": 82,
   "id": "8f610010",
   "metadata": {},
   "outputs": [
    {
     "data": {
      "text/latex": [
       "$\\displaystyle \\frac{1.0 + \\frac{5}{s}}{2000.0 s + 110000.0}$"
      ],
      "text/plain": [
       "(1.0 + 5/s)/(2000.0*s + 110000.0)"
      ]
     },
     "metadata": {},
     "output_type": "display_data"
    },
    {
     "data": {
      "text/latex": [
       "$\\displaystyle \\frac{5}{s \\left(2000.0 s + 110000.0\\right)}$"
      ],
      "text/plain": [
       "5/(s*(2000.0*s + 110000.0))"
      ]
     },
     "metadata": {},
     "output_type": "display_data"
    }
   ],
   "source": [
    "result = linsolve(equation,(I[1],I[2])).args[0]\n",
    "\n",
    "finalList = []\n",
    "for n, res in enumerate(result):\n",
    "    finalList.append(res.subs([(V[1],5/s), (C[1],2*10**-6), (R[1],10000), (R[2],0.1*10**6)]))\n",
    "    display(finalList[n])\n",
    "    \n"
   ]
  },
  {
   "cell_type": "code",
   "execution_count": 94,
   "id": "bd19475e",
   "metadata": {},
   "outputs": [
    {
     "data": {
      "text/latex": [
       "$\\displaystyle \\frac{5}{s \\left(2000.0 s + 110000.0\\right)}$"
      ],
      "text/plain": [
       "5/(s*(2000.0*s + 110000.0))"
      ]
     },
     "metadata": {},
     "output_type": "display_data"
    },
    {
     "data": {
      "text/latex": [
       "$\\displaystyle 4.54545454545455 \\cdot 10^{-5} \\theta\\left(t\\right) - 4.54545454545455 \\cdot 10^{-5} e^{- 55.0 t} \\theta\\left(t\\right)$"
      ],
      "text/plain": [
       "4.54545454545455e-5*Heaviside(t, 1/2) - 4.54545454545455e-5*exp(-55.0*t)*Heaviside(t, 1/2)"
      ]
     },
     "execution_count": 94,
     "metadata": {},
     "output_type": "execute_result"
    }
   ],
   "source": [
    "display(finalList[1])\n",
    "invlap = inverse_laplace_transform(finalList[1], s, t) # t-time s-complex time\n",
    "expand(invlap)"
   ]
  },
  {
   "cell_type": "code",
   "execution_count": 70,
   "id": "4f8749d5",
   "metadata": {},
   "outputs": [
    {
     "data": {
      "text/latex": [
       "$\\displaystyle \\frac{5}{s \\left(27.25 s + 1010000.0\\right)}$"
      ],
      "text/plain": [
       "5/(s*(27.25*s + 1010000.0))"
      ]
     },
     "execution_count": 70,
     "metadata": {},
     "output_type": "execute_result"
    }
   ],
   "source": [
    "5/(s*(27.25*s+1.01*10**6))"
   ]
  },
  {
   "cell_type": "code",
   "execution_count": 79,
   "id": "550caf14",
   "metadata": {},
   "outputs": [
    {
     "data": {
      "image/png": "[encoded data removed]",
      "text/plain": [
       "<Figure size 432x288 with 1 Axes>"
      ]
     },
     "metadata": {
      "needs_background": "light"
     },
     "output_type": "display_data"
    },
    {
     "data": {
      "text/plain": [
       "<sympy.plotting.plot.Plot at 0x2bbafbe08e0>"
      ]
     },
     "execution_count": 79,
     "metadata": {},
     "output_type": "execute_result"
    }
   ],
   "source": [
    "plot(invlap)"
   ]
  },
  {
   "cell_type": "code",
   "execution_count": 90,
   "id": "4bb2d203",
   "metadata": {},
   "outputs": [
    {
     "data": {
      "text/latex": [
       "$\\displaystyle \\frac{e^{- 50 t} \\theta\\left(t\\right)}{2000}$"
      ],
      "text/plain": [
       "exp(-50*t)*Heaviside(t, 1/2)/2000"
      ]
     },
     "execution_count": 90,
     "metadata": {},
     "output_type": "execute_result"
    }
   ],
   "source": [
    "inverse_laplace_transform(5/(10000*(s+50)), s, t) # t-time s-complex time"
   ]
  },
  {
   "cell_type": "code",
   "execution_count": 74,
   "id": "730add65",
   "metadata": {},
   "outputs": [
    {
     "data": {
      "text/plain": [
       "(5/s, 0, True)"
      ]
     },
     "execution_count": 74,
     "metadata": {},
     "output_type": "execute_result"
    }
   ],
   "source": [
    "laplace_transform(Heaviside(t)*5, t, s) # t-time s-complex time"
   ]
  },
  {
   "cell_type": "code",
   "execution_count": 75,
   "id": "775b8102",
   "metadata": {},
   "outputs": [
    {
     "data": {
      "image/png": "[encoded data removed]",
      "text/plain": [
       "<Figure size 432x288 with 1 Axes>"
      ]
     },
     "metadata": {
      "needs_background": "light"
     },
     "output_type": "display_data"
    },
    {
     "data": {
      "text/plain": [
       "<sympy.plotting.plot.Plot at 0x2bbafbb07c0>"
      ]
     },
     "execution_count": 75,
     "metadata": {},
     "output_type": "execute_result"
    }
   ],
   "source": [
    "plot(Heaviside(t)*5)"
   ]
  }
 ],
 "metadata": {
  "kernelspec": {
   "display_name": "Python 3",
   "language": "python",
   "name": "python3"
  },
  "language_info": {
   "codemirror_mode": {
    "name": "ipython",
    "version": 3
   },
   "file_extension": ".py",
   "mimetype": "text/x-python",
   "name": "python",
   "nbconvert_exporter": "python",
   "pygments_lexer": "ipython3",
   "version": "3.8.10"
  }
 },
 "nbformat": 4,
 "nbformat_minor": 5
}
